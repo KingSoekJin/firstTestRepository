{
  "cells": [
    {
      "cell_type": "markdown",
      "metadata": {
        "id": "view-in-github",
        "colab_type": "text"
      },
      "source": [
        "<a href=\"https://colab.research.google.com/github/KingSoekJin/firstTestRepository/blob/main/%ED%8C%8C%EC%9D%B4%EC%8D%AC%ED%94%84%EB%A1%9C%EA%B7%B8%EB%9E%98%EB%B0%8D%EC%9E%85%EB%AC%B8_%ED%80%B4%EC%A6%881_60252624%EC%9B%90%EC%84%9D%EC%A7%84.ipynb\" target=\"_parent\"><img src=\"https://colab.research.google.com/assets/colab-badge.svg\" alt=\"Open In Colab\"/></a>"
      ]
    },
    {
      "cell_type": "code",
      "source": [
        "################################################ 퀴즈 1 ################################################"
      ],
      "metadata": {
        "id": "VTpQlSsFdi3W"
      },
      "execution_count": null,
      "outputs": []
    },
    {
      "cell_type": "code",
      "source": [
        "# 기본 입장료 설정\n",
        "base_fee = 50000\n",
        "# 최대 할인율을 저장할 변수 초기화\n",
        "max_discount_rate = 0.0\n",
        "\n",
        "# 사용자로부터 정보 입력받기\n",
        "age = int(input(\"나이를 입력하세요: \"))\n",
        "is_disabled = input(\"장애인 여부(yes/no): \").lower() # 소문자로 변환하여 일관성 유지\n",
        "is_national_merit = input(\"국가유공자 여부(yes/no): \").lower() # 소문자로 변환\n",
        "\n",
        "# 할인 조건 확인하여 가장 높은 할인율 적용\n",
        "# 1. 장애인 할인 (60%)\n",
        "if is_disabled == 'yes':\n",
        "    # 현재 최대 할인율보다 높으면 갱신\n",
        "    if 0.6 > max_discount_rate:\n",
        "        max_discount_rate = 0.6\n",
        "\n",
        "# 2. 나이 할인 (50%)\n",
        "if age <= 19 or age >= 65:\n",
        "    # 현재 최대 할인율보다 높으면 갱신\n",
        "    if 0.5 > max_discount_rate:\n",
        "        max_discount_rate = 0.5\n",
        "\n",
        "# 3. 국가유공자 할인 (30%)\n",
        "if is_national_merit == 'yes':\n",
        "    # 현재 최대 할인율보다 높으면 갱신\n",
        "    if 0.3 > max_discount_rate:\n",
        "        max_discount_rate = 0.3\n",
        "\n",
        "# 최종 입장료 계산\n",
        "# 최종 요금 = 기본 요금 * (1 - 최대 할인율)\n",
        "final_fee = base_fee * (1 - max_discount_rate)\n",
        "\n",
        "# 결과 출력\n",
        "print(f\"적용된 할인율: {int(max_discount_rate * 100)}%\")\n",
        "print(f\"최종 입장료는 {int(final_fee)}원 입니다.\")"
      ],
      "metadata": {
        "id": "LFvFl3sAdm6E",
        "outputId": "d76f83f2-cf1e-4a5d-d70b-ef652efb8934",
        "colab": {
          "base_uri": "https://localhost:8080/"
        }
      },
      "execution_count": 5,
      "outputs": [
        {
          "output_type": "stream",
          "name": "stdout",
          "text": [
            "나이를 입력하세요: 19\n",
            "장애인 여부(yes/no): no\n",
            "국가유공자 여부(yes/no): yes\n",
            "적용된 할인율: 50%\n",
            "최종 입장료는 25000원 입니다.\n"
          ]
        }
      ]
    },
    {
      "cell_type": "code",
      "source": [
        "# 상영관별 기본 가격 설정\n",
        "prices = {\n",
        "    '일반관': 14000,\n",
        "    'IMAX': 16000,\n",
        "    '4DX': 23000\n",
        "}\n",
        "\n",
        "# 사용자로부터 정보 입력받기\n",
        "screen_type = input(\"상영관 정보 (일반관, IMAX, 4DX): \")\n",
        "is_weekend = input(\"주말 여부(yes/no): \").lower()\n",
        "age = int(input(\"나이를 입력하세요: \"))\n",
        "is_military = input(\"군인 여부(yes/no): \").lower()\n",
        "\n",
        "# 1. 상영관과 주말 여부에 따른 기본 가격 계산\n",
        "# .get()을 사용하여 혹시 잘못된 상영관 이름을 입력해도 오류 대신 기본값(일반관 가격)을 사용하도록 함\n",
        "current_price = prices.get(screen_type, 14000)\n",
        "\n",
        "if is_weekend == 'yes':\n",
        "    current_price += 1000\n",
        "\n",
        "# 2. 할인 적용 후 가격 계산 (중복 적용 불가)\n",
        "# 최종 가격과 할인 정보를 저장할 변수 초기화\n",
        "final_price = current_price\n",
        "discount_info = \"할인 없음\"\n",
        "\n",
        "# 나이 할인 조건 확인\n",
        "is_age_discount_eligible = (age <= 19 or age >= 65)\n",
        "# 군인 할인 조건 확인\n",
        "is_military_discount_eligible = (is_military == 'yes')\n",
        "\n",
        "# 각 할인 적용 시 예상 가격 계산\n",
        "# 만약 할인 대상이 아니면, 비교를 위해 매우 큰 값(float('inf'))으로 설정\n",
        "age_discounted_price = current_price - 5000 if is_age_discount_eligible else float('inf')\n",
        "military_discounted_price = current_price * 0.7 if is_military_discount_eligible else float('inf')\n",
        "\n",
        "# 3. 더 유리한(가격이 낮은) 할인 1개만 선택\n",
        "if age_discounted_price < current_price or military_discounted_price < current_price: # 하나라도 할인이 적용되는 경우\n",
        "    if age_discounted_price <= military_discounted_price:\n",
        "        final_price = age_discounted_price\n",
        "        discount_info = \"나이 할인\"\n",
        "    else:\n",
        "        final_price = military_discounted_price\n",
        "        discount_info = \"군인 할인\"\n",
        "\n",
        "# 4. 최종 결과 출력\n",
        "print(\"--- 최종 결제 금액 ---\")\n",
        "print(f\"선택 상영관: {screen_type}\")\n",
        "print(f\"적용된 할인: {discount_info}\")\n",
        "print(f\"최종 티켓 가격은 {int(final_price)}원 입니다.\")"
      ],
      "metadata": {
        "id": "vCwRLKkYdm3M",
        "outputId": "f28bbd24-d2cb-4071-decf-a14927d11367",
        "colab": {
          "base_uri": "https://localhost:8080/"
        }
      },
      "execution_count": 3,
      "outputs": [
        {
          "output_type": "stream",
          "name": "stdout",
          "text": [
            "상영관 정보 (일반관, IMAX, 4DX): 일반관\n",
            "주말 여부(yes/no): no\n",
            "나이를 입력하세요: 19\n",
            "군인 여부(yes/no): no\n",
            "--- 최종 결제 금액 ---\n",
            "선택 상영관: 일반관\n",
            "적용된 할인: 나이 할인\n",
            "최종 티켓 가격은 9000원 입니다.\n"
          ]
        }
      ]
    },
    {
      "cell_type": "code",
      "source": [
        "# 무작위 수를 생성하기 위해 random 라이브러리를 가져옵니다.\n",
        "import random\n",
        "\n",
        "# 한 명의 게이머가 주사위를 3번 던져 점수를 계산하는 함수\n",
        "def play_dice_game():\n",
        "    \"\"\"\n",
        "    한 명의 플레이어가 주사위를 3번 던지고, 규칙에 따라 점수를 계산하여 반환합니다.\n",
        "    - 6이 나오면 다음 주사위 점수가 2배가 됩니다.\n",
        "    \"\"\"\n",
        "    total_score = 0\n",
        "    double_next_roll = False # 다음 주사위 점수를 2배로 만들지 여부를 저장하는 변수\n",
        "\n",
        "    # 주사위를 3번 던집니다.\n",
        "    for i in range(3):\n",
        "        # 1부터 6 사이의 무작위 정수 생성\n",
        "        roll = random.randint(1, 6)\n",
        "\n",
        "        # 실제 주사위에 나온 값\n",
        "        score_to_add = roll\n",
        "\n",
        "        # 이전 차례에 6이 나왔었다면(double_next_roll이 True라면)\n",
        "        if double_next_roll:\n",
        "            score_to_add *= 2 # 이번 점수를 2배로 만듭니다.\n",
        "            print(f\"{i+1}번째 주사위: {roll} (🍀 행운! 점수가 2배되어 +{score_to_add}점)\")\n",
        "            double_next_roll = False # 2배 효과를 사용했으므로 초기화합니다.\n",
        "        else:\n",
        "            print(f\"{i+1}번째 주사위: {roll} (+{score_to_add}점)\")\n",
        "\n",
        "        # 총점에 이번 점수를 더합니다.\n",
        "        total_score += score_to_add\n",
        "\n",
        "        # 이번에 던진 주사위가 6이라면, 다음 차례에 2배 효과를 주기 위해 True로 설정합니다.\n",
        "        if roll == 6:\n",
        "            double_next_roll = True\n",
        "\n",
        "    return total_score\n",
        "\n",
        "# --- 게임 시작 ---\n",
        "print(\"🎲 주사위 게임을 시작합니다. 🎲\\n\")\n",
        "\n",
        "# 게이머1의 차례\n",
        "print(\"--- 게이머1의 차례 ---\")\n",
        "gamer1_score = play_dice_game()\n",
        "print(f\"게이머1 총점: {gamer1_score}\\n\")\n",
        "\n",
        "# 게이머2의 차례\n",
        "print(\"--- 게이머2의 차례 ---\")\n",
        "gamer2_score = play_dice_game()\n",
        "print(f\"게이머2 총점: {gamer2_score}\\n\")\n",
        "\n",
        "# --- 최종 결과 발표 ---\n",
        "print(\"=\"*20)\n",
        "print(\"🏆 최종 결과 🏆\")\n",
        "print(f\"게이머1: {gamer1_score}점 vs 게이머2: {gamer2_score}점\")\n",
        "\n",
        "if gamer1_score > gamer2_score:\n",
        "    print(\"🎉 게이머1이 승리했습니다! 🎉\")\n",
        "elif gamer2_score > gamer1_score:\n",
        "    print(\"🎉 게이머2가 승리했습니다! 🎉\")\n",
        "else:\n",
        "    print(\"😲 무승부입니다! 😲\")\n",
        "print(\"=\"*20)"
      ],
      "metadata": {
        "id": "p7Ef80lndm0d",
        "outputId": "4b9bfaff-6eef-482e-b720-c901d45ffa5f",
        "colab": {
          "base_uri": "https://localhost:8080/"
        }
      },
      "execution_count": 2,
      "outputs": [
        {
          "output_type": "stream",
          "name": "stdout",
          "text": [
            "🎲 주사위 게임을 시작합니다. 🎲\n",
            "\n",
            "--- 게이머1의 차례 ---\n",
            "1번째 주사위: 3 (+3점)\n",
            "2번째 주사위: 1 (+1점)\n",
            "3번째 주사위: 3 (+3점)\n",
            "게이머1 총점: 7\n",
            "\n",
            "--- 게이머2의 차례 ---\n",
            "1번째 주사위: 2 (+2점)\n",
            "2번째 주사위: 1 (+1점)\n",
            "3번째 주사위: 1 (+1점)\n",
            "게이머2 총점: 4\n",
            "\n",
            "====================\n",
            "🏆 최종 결과 🏆\n",
            "게이머1: 7점 vs 게이머2: 4점\n",
            "🎉 게이머1이 승리했습니다! 🎉\n",
            "====================\n"
          ]
        }
      ]
    },
    {
      "cell_type": "code",
      "source": [
        "# 무작위 수를 생성하기 위해 random 라이브러리를 가져옵니다.\n",
        "import random\n",
        "\n",
        "# 사용자로부터 몬스터의 체력을 입력받습니다.\n",
        "monster_hp = int(input(\"몬스터의 체력(h)을 입력하세요: \"))\n",
        "attack_count = 5 # 공격 횟수는 5로 고정됩니다.\n",
        "\n",
        "# 게임에 필요한 변수들을 초기화합니다.\n",
        "total_damage = 0\n",
        "is_critical_next = False # 다음 공격이 크리티컬 효과를 받는지 여부\n",
        "\n",
        "print(\"\\n\" + \"=\"*25)\n",
        "print(f\"⚔️ 체력 {monster_hp}의 몬스터 사냥을 시작합니다! ⚔️\")\n",
        "print(\"=\"*25)\n",
        "\n",
        "# 정해진 횟수(5번)만큼 공격을 반복합니다.\n",
        "for i in range(attack_count):\n",
        "    # 1부터 12 사이의 무작위 공격 데미지를 생성합니다.\n",
        "    base_damage = random.randint(1, 12)\n",
        "\n",
        "    # 적용될 실제 데미지 (초기값은 기본 데미지와 동일)\n",
        "    applied_damage = base_damage\n",
        "\n",
        "    # 메시지를 담을 변수\n",
        "    bonus_message = \"\"\n",
        "\n",
        "    # 만약 이전 공격이 크리티컬 히트였다면\n",
        "    if is_critical_next:\n",
        "        applied_damage *= 2 # 이번 공격 데미지를 2배로 만듭니다.\n",
        "        bonus_message = \" (✨ 크리티컬 효과! 데미지 2배)\"\n",
        "        is_critical_next = False # 효과를 사용했으니 다시 원래대로 돌려놓습니다.\n",
        "\n",
        "    # 누적 데미지에 이번에 적용된 데미지를 더합니다.\n",
        "    total_damage += applied_damage\n",
        "\n",
        "    # 각 공격의 결과와 누적 데미지를 출력합니다.\n",
        "    print(f\"[{i+1}/{attack_count}] 공격 데미지: {base_damage} -> 적용 데미지: {applied_damage}{bonus_message}\")\n",
        "    print(f\"    ➡️  누적 데미지: {total_damage} / {monster_hp}\\n\")\n",
        "\n",
        "    # 이번 공격이 크리티컬 히트(11 또는 12)인지 확인합니다.\n",
        "    if base_damage >= 11:\n",
        "        print(f\"    💥 크리티컬 히트! 다음 공격의 데미지가 2배가 됩니다.\\n\")\n",
        "        is_critical_next = True # 다음 공격이 2배가 되도록 설정합니다.\n",
        "\n",
        "# --- 최종 결과 판정 ---55\n",
        "print(\"=\"*25)\n",
        "print(\" 전투가 종료되었습니다. \")\n",
        "print(\"=\"*25)\n",
        "\n",
        "if total_damage >= monster_hp:\n",
        "    print(f\"🎉 총 {total_damage}의 데미지를 입혀 몬스터 처치에 성공했습니다!\")\n",
        "else:\n",
        "    print(f\"😢 총 {total_damage}의 데미지를 입혔지만, 몬스터 처치에 실패했습니다...\")"
      ],
      "metadata": {
        "id": "s_x93_q_dmyM",
        "outputId": "0b61eab7-6a83-434f-e5e2-d405e7861ece",
        "colab": {
          "base_uri": "https://localhost:8080/"
        }
      },
      "execution_count": 1,
      "outputs": [
        {
          "output_type": "stream",
          "name": "stdout",
          "text": [
            "몬스터의 체력(h)을 입력하세요: 30\n",
            "\n",
            "=========================\n",
            "⚔️ 체력 30의 몬스터 사냥을 시작합니다! ⚔️\n",
            "=========================\n",
            "[1/5] 공격 데미지: 5 -> 적용 데미지: 5\n",
            "    ➡️  누적 데미지: 5 / 30\n",
            "\n",
            "[2/5] 공격 데미지: 12 -> 적용 데미지: 12\n",
            "    ➡️  누적 데미지: 17 / 30\n",
            "\n",
            "    💥 크리티컬 히트! 다음 공격의 데미지가 2배가 됩니다.\n",
            "\n",
            "[3/5] 공격 데미지: 1 -> 적용 데미지: 2 (✨ 크리티컬 효과! 데미지 2배)\n",
            "    ➡️  누적 데미지: 19 / 30\n",
            "\n",
            "[4/5] 공격 데미지: 4 -> 적용 데미지: 4\n",
            "    ➡️  누적 데미지: 23 / 30\n",
            "\n",
            "[5/5] 공격 데미지: 8 -> 적용 데미지: 8\n",
            "    ➡️  누적 데미지: 31 / 30\n",
            "\n",
            "=========================\n",
            " 전투가 종료되었습니다. \n",
            "=========================\n",
            "🎉 총 31의 데미지를 입혀 몬스터 처치에 성공했습니다!\n"
          ]
        }
      ]
    }
  ],
  "metadata": {
    "colab": {
      "name": "Colab 시작하기",
      "provenance": [],
      "include_colab_link": true
    },
    "kernelspec": {
      "display_name": "Python 3",
      "name": "python3"
    }
  },
  "nbformat": 4,
  "nbformat_minor": 0
}